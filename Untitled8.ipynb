{
  "nbformat": 4,
  "nbformat_minor": 0,
  "metadata": {
    "colab": {
      "provenance": [],
      "authorship_tag": "ABX9TyNUKrQoceboxywSm0iMr04g",
      "include_colab_link": true
    },
    "kernelspec": {
      "name": "python3",
      "display_name": "Python 3"
    },
    "language_info": {
      "name": "python"
    }
  },
  "cells": [
    {
      "cell_type": "markdown",
      "metadata": {
        "id": "view-in-github",
        "colab_type": "text"
      },
      "source": [
        "<a href=\"https://colab.research.google.com/github/boco129/hoge/blob/main/Untitled8.ipynb\" target=\"_parent\"><img src=\"https://colab.research.google.com/assets/colab-badge.svg\" alt=\"Open In Colab\"/></a>"
      ]
    },
    {
      "cell_type": "code",
      "execution_count": 54,
      "metadata": {
        "id": "IEYYSWzsXms-"
      },
      "outputs": [],
      "source": [
        "import sys\n",
        "import random\n",
        "from scipy.special import ndtri\n",
        "from  typing import Dict, List\n",
        "import numpy as np\n",
        "import pandas as pd\n",
        "import time\n",
        "from joblib import Parallel, delayed\n",
        "\n",
        "from scipy.stats import norm\n",
        "\n",
        "def my_ndtri(p):\n",
        "    return norm.ppf(p)\n",
        "\n",
        "# my_ndtriを使用する\n",
        "\n",
        "def gaussian_random(num_period, coefficient):\n",
        "    rnd_revenue = [my_ndtri(random.random())for i in range(num_period)]\n",
        "    rnd_drift = [coefficient * rnd_revenue[i] + np.sqrt(1-coefficient**2) * my_ndtri(random.random()) for i in range(num_period)]\n",
        "    return {'rnd_revenue': rnd_revenue, 'rnd_drift':rnd_drift}\n",
        "\n",
        "def vol_growth_rate(num_period, initial_volatility_growth_rate, mean_reversion_coeff_vol_growth_rate):\n",
        "    return [initial_volatility_growth_rate*np.exp(-mean_reversion_coeff_vol_growth_rate * i) for i in range(num_period)]\n",
        "\n",
        "def vol_revenue(num_period, initial_volatility_revenue, mean_revension_coeff_vol_revenue, ultimate_long_term_volatility_growth_rate):\n",
        "    return [initial_volatility_revenue*np.exp(-mean_revension_coeff_vol_revenue*i)+ultimate_long_term_volatility_growth_rate * (1-np.exp(-mean_revension_coeff_vol_revenue*i))for i in range(num_period)]\n",
        "\n",
        "def calc_drift(n_iter, ultimate_long_term_growth_rate, mean_reversion_coeff_revenue, adjusted_market_value_growth_rate, time_step, rnd_drift, vol_growth_rate, vol_revenue, drift):\n",
        "    return np.exp(-mean_reversion_coeff_revenue * time_step)*drift[n_iter-1]+(1-np.exp(-mean_reversion_coeff_revenue*time_step))*(ultimate_long_term_growth_rate-(adjusted_market_value_growth_rate*vol_growth_rate[n_iter]/mean_reversion_coeff_revenue))+ np.sqrt((1-np.exp(-2*mean_reversion_coeff_revenue*time_step))/(2*mean_reversion_coeff_revenue)) * vol_growth_rate[n_iter]*rnd_drift[n_iter]\n",
        "\n",
        "def calc_pl(\n",
        "        num_period,\n",
        "        initial_revenue,\n",
        "        initial_expected_growth_rate_in_revenue,\n",
        "        initial_surplus_cash_balance,\n",
        "        initial_loss_carried_forward,\n",
        "        ultimate_long_term_growth_rate,\n",
        "        mean_reversion_coeff_revenue,\n",
        "        adjusted_market_value_revenue,\n",
        "        adjusted_market_value_growth_rate,\n",
        "        risk_free_rate,\n",
        "        tax_rate,\n",
        "        ratio_cogs_on_revenue,\n",
        "        fixed_component_otherexpense,\n",
        "        ratio_flex_otherexpense,\n",
        "        time_step,\n",
        "        rnd_drift,\n",
        "        rnd_revenue,\n",
        "        default_line,\n",
        "        vol_revenue,\n",
        "        vol_growth_rate\n",
        "):\n",
        "    for i in range(num_period):\n",
        "        if i==0:\n",
        "            drift = [initial_expected_growth_rate_in_revenue]\n",
        "            revenue = [initial_revenue]\n",
        "            cost = [(ratio_cogs_on_revenue+ratio_flex_otherexpense)*initial_revenue+fixed_component_otherexpense]\n",
        "            ebitda = [revenue[i]-cost[i]]\n",
        "            surplus_cash = [max(initial_surplus_cash_balance, default_line)]\n",
        "            interest_income = [(np.exp(risk_free_rate/4 * time_step)-1)*surplus_cash[i]]\n",
        "            pl_before_tax = [ebitda[i]+interest_income[i]]\n",
        "            accumulated_loss_carriedforward = [initial_loss_carried_forward]\n",
        "            tax = [-min(0, (accumulated_loss_carriedforward[i]-pl_before_tax[i]))]\n",
        "            net_income = [pl_before_tax[i]-tax[i]]\n",
        "            default = [0]\n",
        "            default_flag = [default[i]]\n",
        "        else:\n",
        "            drift.append(calc_drift(\n",
        "                n_iter=i,\n",
        "                ultimate_long_term_growth_rate=ultimate_long_term_growth_rate,\n",
        "                mean_reversion_coeff_revenue=mean_reversion_coeff_revenue,\n",
        "                adjusted_market_value_growth_rate=adjusted_market_value_growth_rate,\n",
        "                time_step=time_step,\n",
        "                rnd_drift=rnd_drift,\n",
        "                vol_growth_rate=vol_growth_rate,\n",
        "                vol_revenue=vol_revenue,\n",
        "                drift=drift\n",
        "            ))\n",
        "            revenue.append((1-default[i-1])*revenue[i-1]*np.exp((drift[i]-adjusted_market_value_revenue*vol_revenue[i]-(vol_revenue[i]**2 /2))*time_step+vol_revenue[i]*np.sqrt(time_step)*rnd_revenue[i]))\n",
        "            cost.append((1-default[i-1])*(ratio_cogs_on_revenue+ratio_flex_otherexpense)*revenue[i]+fixed_component_otherexpense)\n",
        "            ebitda.append(revenue[i]-cost[i])\n",
        "            interest_income.append((np.exp(risk_free_rate/4*time_step)-1)*surplus_cash[i-1])\n",
        "            pl_before_tax.append(ebitda[i]+interest_income[i])\n",
        "            tax.append(-min(0, (accumulated_loss_carriedforward[i-1]-pl_before_tax[i])*tax_rate))\n",
        "            net_income.append(pl_before_tax[i]-tax[i])\n",
        "            accumulated_loss_carriedforward.append(max(accumulated_loss_carriedforward[i-1]-net_income[i], 0))\n",
        "            surplus_cash.append(max(surplus_cash[i-1]+net_income[i], default_line))\n",
        "            if default[i-1]==1:\n",
        "                default.append(1)\n",
        "            elif surplus_cash[i]<=0:\n",
        "                default.append(1)\n",
        "            else:\n",
        "                default.append(0)\n",
        "            if default[i-1]==1:\n",
        "                default_flag.append(0)\n",
        "            elif surplus_cash[i]<=0:\n",
        "                default_flag.append(1)\n",
        "            else:\n",
        "                default_flag.append(0)\n",
        "\n",
        "\n",
        "    return {'vol_of_revenue':vol_revenue,\n",
        "            'drift':drift,\n",
        "            'revenue':revenue,\n",
        "            'cost':cost,\n",
        "            'ebitda':ebitda,\n",
        "            'interest_income':interest_income,\n",
        "            'pl_before_tax':pl_before_tax,\n",
        "            'tax':tax,\n",
        "            'net_income':net_income,\n",
        "            'accumulated_loss_carriedforward':accumulated_loss_carriedforward,\n",
        "            'surplus_cash':surplus_cash,\n",
        "            'default':default,\n",
        "            'default_flag':default_flag}\n",
        "\n",
        "def rov_process(\n",
        "        initial_revenue,\n",
        "        initial_loss_carried_forward,\n",
        "        initial_surplus_cash_balance,\n",
        "        initial_expected_growth_rate_in_revenue,\n",
        "        initial_volatility_revenue,\n",
        "        initial_volatility_growth_rate,\n",
        "        ultimate_long_term_growth_rate,\n",
        "        ultimate_long_term_volatility_growth_rate,\n",
        "        tax_rate,\n",
        "        risk_free_rate,\n",
        "        mean_revension_coeff_revenue,\n",
        "        mean_revension_coeff_vol_revenue,\n",
        "        mean_revension_coeff_vol_growth_rate,\n",
        "        ratio_cogs_on_revenue,\n",
        "        fixed_component_otherexpense,\n",
        "        ratio_flex_otherexpense,\n",
        "        adjusted_market_value_revenue,\n",
        "        adjusted_market_value_growth_rate,\n",
        "        time_horizon,\n",
        "        time_step,\n",
        "        default_line,\n",
        "        sample_pathways,\n",
        "        multiple_evitda,\n",
        "        quantity_stock,\n",
        "        investment_amt,\n",
        "        coefficient\n",
        "):\n",
        "    NUM_PERIOD = time_horizon*4 +1\n",
        "    rnd_dict = gaussian_random(num_period=NUM_PERIOD, coefficient=coefficient)\n",
        "    vol_growth_rate_list = vol_growth_rate(num_period=NUM_PERIOD, initial_volatility_growth_rate=initial_volatility_growth_rate, mean_reversion_coeff_vol_growth_rate=mean_revension_coeff_vol_growth_rate)\n",
        "    vol_revenue_list = vol_revenue(num_period=NUM_PERIOD, initial_volatility_revenue=initial_volatility_revenue, mean_revension_coeff_vol_revenue=mean_revension_coeff_vol_revenue, ultimate_long_term_volatility_growth_rate=ultimate_long_term_volatility_growth_rate)\n",
        "    rov_dict = calc_pl(\n",
        "     num_period=NUM_PERIOD,\n",
        "     initial_revenue=initial_revenue,\n",
        "     initial_expected_growth_rate_in_revenue=initial_expected_growth_rate_in_revenue,\n",
        "     initial_surplus_cash_balance=initial_surplus_cash_balance,\n",
        "     initial_loss_carried_forward=initial_loss_carried_forward,\n",
        "     ultimate_long_term_growth_rate=ultimate_long_term_growth_rate,\n",
        "     mean_reversion_coeff_revenue=mean_revension_coeff_revenue,\n",
        "     adjusted_market_value_revenue=adjusted_market_value_revenue,\n",
        "     adjusted_market_value_growth_rate=adjusted_market_value_growth_rate,\n",
        "     risk_free_rate=risk_free_rate,\n",
        "     tax_rate=tax_rate,\n",
        "     ratio_cogs_on_revenue=ratio_cogs_on_revenue,\n",
        "     fixed_component_otherexpense=fixed_component_otherexpense,\n",
        "     ratio_flex_otherexpense=ratio_flex_otherexpense,\n",
        "     time_step=time_step,\n",
        "     rnd_drift=rnd_dict['rnd_drift'],\n",
        "     rnd_revenue=rnd_dict['rnd_revenue'],\n",
        "     default_line=default_line,\n",
        "     vol_revenue=vol_revenue_list,\n",
        "     vol_growth_rate=vol_growth_rate_list\n",
        "    )\n",
        "    for i, flag in enumerate(rov_dict['default']):\n",
        "        if flag==1:\n",
        "            output_dict={\n",
        "                'default_year':i/4,\n",
        "                'surplus_cash_t':0,\n",
        "                'terminal_value':0,\n",
        "                'equity_value':0,\n",
        "                'stock_price':0,\n",
        "                'urgl_per_stock':0,\n",
        "                'renenue_ratio_after_5y':0\n",
        "            }\n",
        "            break\n",
        "        else:\n",
        "            default_year = 0\n",
        "            surplus_cash_t = rov_dict['surplus_cash'][-1]\n",
        "            terminal_value = rov_dict['ebitda'][-1]*multiple_evitda\n",
        "            equity_value = (surplus_cash_t+terminal_value)*np.exp(-risk_free_rate*time_horizon)\n",
        "            stock_price = equity_value/quantity_stock\n",
        "            urgl_per_stock = stock_price-investment_amt\n",
        "            renenue_ratio_after_5y = rov_dict['revenue'][4*5]/rov_dict['revenue'][0]-1\n",
        "            output_dict={\n",
        "                'default_year':default_year,\n",
        "                'surplus_cash_t':surplus_cash_t,\n",
        "                'terminal_value':terminal_value,\n",
        "                'equity_value':equity_value,\n",
        "                'stock_price':stock_price,\n",
        "                'urgl_per_stock':urgl_per_stock,\n",
        "                'renenue_ratio_after_5y':renenue_ratio_after_5y\n",
        "            }            \n",
        "    rov_dict['rnd_revenue'] = rnd_dict['rnd_revenue']\n",
        "    rov_dict['rnd_drift'] = rnd_dict['rnd_drift']\n",
        "    rov_dict['vol_of_growth_rate'] = vol_growth_rate_list\n",
        "    #rov_df = pd.DataFrame(rov_dict)\n",
        "    return rov_dict, output_dict\n",
        "\n",
        "def simulate_rov(args_dict, n_jobs):\n",
        "    def one_pathway(args_dict):\n",
        "        sim_df, sim_out = rov_process(**args_dict)\n",
        "        return sim_out['equity_value'], sim_out['stock_price'], sim_out['urgl_per_stock'], sim_df['default_flag'], sim_df['revenue'], sim_df['drift']\n",
        "\n",
        "    result = Parallel(n_jobs=n_jobs, verbose=1)(delayed(one_pathway)(args_dict) for _ in range(args_dict['sample_pathways']))\n",
        "    equity_value, stock_price, urgl_per_stock, default_flag, revenue, drift = zip(*result)\n",
        "\n",
        "    return equity_value, stock_price, urgl_per_stock, default_flag, revenue, drift\n"
      ]
    },
    {
      "cell_type": "code",
      "source": [
        "args = {\n",
        "    'initial_revenue':356,\n",
        "    'initial_loss_carried_forward':559,\n",
        "    'initial_surplus_cash_balance':906,\n",
        "    'initial_expected_growth_rate_in_revenue':0.11,\n",
        "    'initial_volatility_revenue':0.1,\n",
        "    'initial_volatility_growth_rate':0.03,\n",
        "    'ultimate_long_term_growth_rate':0.015,\n",
        "    'ultimate_long_term_volatility_growth_rate':0.05,\n",
        "    'tax_rate':0.35,\n",
        "    'risk_free_rate':0.05,\n",
        "    'mean_revension_coeff_revenue':0.07,\n",
        "    'mean_revension_coeff_vol_revenue':0.07,\n",
        "    'mean_revension_coeff_vol_growth_rate':0.07,\n",
        "    'ratio_cogs_on_revenue':0.75,\n",
        "    'fixed_component_otherexpense':75,\n",
        "    'ratio_flex_otherexpense':0.19,\n",
        "    'adjusted_market_value_revenue':0.01,\n",
        "    'adjusted_market_value_growth_rate':0,\n",
        "    'time_horizon':25,\n",
        "    'time_step':1,\n",
        "    'default_line':0,\n",
        "    'sample_pathways':10000,\n",
        "    'multiple_evitda':10,\n",
        "    'quantity_stock':70,\n",
        "    'investment_amt':10,\n",
        "    'coefficient':0\n",
        "}"
      ],
      "metadata": {
        "id": "Qid3qVK3XoCT"
      },
      "execution_count": 55,
      "outputs": []
    },
    {
      "cell_type": "code",
      "source": [
        "equity_value, stock_price, urgl_per_stock, default_flag, revenue, drift = simulate_rov(args, n_jobs=30)"
      ],
      "metadata": {
        "colab": {
          "base_uri": "https://localhost:8080/"
        },
        "id": "D8R_IkpnZVyv",
        "outputId": "598c8089-b3c5-463e-ebaf-bce522a6ea1b"
      },
      "execution_count": 58,
      "outputs": [
        {
          "output_type": "stream",
          "name": "stderr",
          "text": [
            "[Parallel(n_jobs=30)]: Using backend LokyBackend with 30 concurrent workers.\n",
            "[Parallel(n_jobs=30)]: Done 140 tasks      | elapsed:   25.9s\n",
            "[Parallel(n_jobs=30)]: Done 390 tasks      | elapsed:   37.6s\n",
            "[Parallel(n_jobs=30)]: Done 740 tasks      | elapsed:   52.6s\n",
            "[Parallel(n_jobs=30)]: Done 1190 tasks      | elapsed:  1.2min\n",
            "[Parallel(n_jobs=30)]: Done 1740 tasks      | elapsed:  1.6min\n",
            "[Parallel(n_jobs=30)]: Done 2390 tasks      | elapsed:  2.0min\n",
            "[Parallel(n_jobs=30)]: Done 3140 tasks      | elapsed:  2.6min\n",
            "[Parallel(n_jobs=30)]: Done 3990 tasks      | elapsed:  3.2min\n",
            "[Parallel(n_jobs=30)]: Done 4940 tasks      | elapsed:  3.8min\n",
            "[Parallel(n_jobs=30)]: Done 5990 tasks      | elapsed:  4.5min\n",
            "[Parallel(n_jobs=30)]: Done 7140 tasks      | elapsed:  5.3min\n",
            "[Parallel(n_jobs=30)]: Done 8390 tasks      | elapsed:  6.2min\n",
            "[Parallel(n_jobs=30)]: Done 9740 tasks      | elapsed:  7.2min\n",
            "[Parallel(n_jobs=30)]: Done 10000 out of 10000 | elapsed:  7.3min finished\n"
          ]
        }
      ]
    },
    {
      "cell_type": "code",
      "source": [
        "import os\n",
        "os.cpu_count()"
      ],
      "metadata": {
        "colab": {
          "base_uri": "https://localhost:8080/"
        },
        "id": "uv1eEF0UnSiF",
        "outputId": "c83d0269-9c1a-4fcf-a955-ebea2edca579"
      },
      "execution_count": 50,
      "outputs": [
        {
          "output_type": "execute_result",
          "data": {
            "text/plain": [
              "2"
            ]
          },
          "metadata": {},
          "execution_count": 50
        }
      ]
    },
    {
      "cell_type": "code",
      "source": [
        "revenue"
      ],
      "metadata": {
        "id": "HrW-ZibgZfXD"
      },
      "execution_count": null,
      "outputs": []
    },
    {
      "cell_type": "code",
      "source": [
        "import multiprocessing\n",
        "num_cores = multiprocessing.cpu_count()"
      ],
      "metadata": {
        "id": "7GC7NBfmfIl-"
      },
      "execution_count": 37,
      "outputs": []
    },
    {
      "cell_type": "code",
      "source": [
        "num_cores"
      ],
      "metadata": {
        "colab": {
          "base_uri": "https://localhost:8080/"
        },
        "id": "hm4x7mYMhgd2",
        "outputId": "40e50e18-33c8-4351-bb61-8eda5c43e319"
      },
      "execution_count": 38,
      "outputs": [
        {
          "output_type": "execute_result",
          "data": {
            "text/plain": [
              "2"
            ]
          },
          "metadata": {},
          "execution_count": 38
        }
      ]
    },
    {
      "cell_type": "code",
      "source": [],
      "metadata": {
        "id": "wa_q6GBMhqMa"
      },
      "execution_count": null,
      "outputs": []
    }
  ]
}