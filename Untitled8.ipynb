{
  "nbformat": 4,
  "nbformat_minor": 0,
  "metadata": {
    "colab": {
      "provenance": [],
      "authorship_tag": "ABX9TyPl4JqF1h9aS7FWw9xVaXhk",
      "include_colab_link": true
    },
    "kernelspec": {
      "name": "python3",
      "display_name": "Python 3"
    },
    "language_info": {
      "name": "python"
    }
  },
  "cells": [
    {
      "cell_type": "markdown",
      "metadata": {
        "id": "view-in-github",
        "colab_type": "text"
      },
      "source": [
        "<a href=\"https://colab.research.google.com/github/boco129/hoge/blob/main/Untitled8.ipynb\" target=\"_parent\"><img src=\"https://colab.research.google.com/assets/colab-badge.svg\" alt=\"Open In Colab\"/></a>"
      ]
    },
    {
      "cell_type": "code",
      "execution_count": null,
      "metadata": {
        "id": "IEYYSWzsXms-"
      },
      "outputs": [],
      "source": [
        "import sys\n",
        "import random\n",
        "from scipy.special import ndtri\n",
        "from  typing import Dict, List\n",
        "import numpy as np\n",
        "import pandas as pd\n",
        "import time\n",
        "from joblib import Parallel, delayed\n",
        "\n",
        "from scipy.stats import norm\n",
        "\n",
        "def my_ndtri(p):\n",
        "    return norm.ppf(p)\n",
        "\n",
        "# my_ndtriを使用する\n",
        "\n",
        "def gaussian_random(num_period, coefficient):\n",
        "    rnd_revenue = [my_ndtri(random.random())for i in range(num_period)]\n",
        "    rnd_drift = [coefficient * rnd_revenue[i] + np.sqrt(1-coefficient**2) * my_ndtri(random.random()) for i in range(num_period)]\n",
        "    return {'rnd_revenue': rnd_revenue, 'rnd_drift':rnd_drift}\n",
        "\n",
        "def vol_growth_rate(num_period, initial_volatility_growth_rate, mean_reversion_coeff_vol_growth_rate):\n",
        "    return [initial_volatility_growth_rate*np.exp(-mean_reversion_coeff_vol_growth_rate * i) for i in range(num_period)]\n",
        "\n",
        "def vol_revenue(num_period, initial_volatility_revenue, mean_revension_coeff_vol_revenue, ultimate_long_term_volatility_growth_rate):\n",
        "    return [initial_volatility_revenue*np.exp(-mean_revension_coeff_vol_revenue*i)+ultimate_long_term_volatility_growth_rate * (1-np.exp(-mean_revension_coeff_vol_revenue*i))for i in range(num_period)]\n",
        "\n",
        "def calc_drift(n_iter, ultimate_long_term_growth_rate, mean_reversion_coeff_revenue, adjusted_market_value_growth_rate, time_step, rnd_drift, vol_growth_rate, vol_revenue, drift):\n",
        "    return np.exp(-mean_reversion_coeff_revenue * time_step)*drift[n_iter-1]+(1-np.exp(-mean_reversion_coeff_revenue*time_step))*(ultimate_long_term_growth_rate-(adjusted_market_value_growth_rate*vol_growth_rate[n_iter]/mean_reversion_coeff_revenue))+ np.sqrt((1-np.exp(-2*mean_reversion_coeff_revenue*time_step))/(2*mean_reversion_coeff_revenue)) * vol_growth_rate[n_iter]*rnd_drift[n_iter]\n",
        "\n",
        "def calc_pl(\n",
        "        num_period,\n",
        "        initial_revenue,\n",
        "        initial_expected_growth_rate_in_revenue,\n",
        "        initial_surplus_cash_balance,\n",
        "        initial_loss_carried_forward,\n",
        "        ultimate_long_term_growth_rate,\n",
        "        mean_reversion_coeff_revenue,\n",
        "        adjusted_market_value_revenue,\n",
        "        adjusted_market_value_growth_rate,\n",
        "        risk_free_rate,\n",
        "        tax_rate,\n",
        "        ratio_cogs_on_revenue,\n",
        "        fixed_component_otherexpense,\n",
        "        ratio_flex_otherexpense,\n",
        "        time_step,\n",
        "        rnd_drift,\n",
        "        rnd_revenue,\n",
        "        default_line,\n",
        "        vol_revenue,\n",
        "        vol_growth_rate\n",
        "):\n",
        "    for i in range(num_period):\n",
        "        if i==0:\n",
        "            drift = [initial_expected_growth_rate_in_revenue]\n",
        "            revenue = [initial_revenue]\n",
        "            cost = [(ratio_cogs_on_revenue+ratio_flex_otherexpense)*initial_revenue+fixed_component_otherexpense]\n",
        "            ebitda = [revenue[i]-cost[i]]\n",
        "            surplus_cash = [max(initial_surplus_cash_balance, default_line)]\n",
        "            interest_income = [(np.exp(risk_free_rate/4 * time_step)-1)*surplus_cash[i]]\n",
        "            pl_before_tax = [ebitda[i]+interest_income[i]]\n",
        "            accumulated_loss_carriedforward = [initial_loss_carried_forward]\n",
        "            tax = [-min(0, (accumulated_loss_carriedforward[i]-pl_before_tax[i]))]\n",
        "            net_income = [pl_before_tax[i]-tax[i]]\n",
        "            default = [0]\n",
        "            default_flag = [default[i]]\n",
        "        else:\n",
        "            drift.append(calc_drift(\n",
        "                n_iter=i,\n",
        "                ultimate_long_term_growth_rate=ultimate_long_term_growth_rate,\n",
        "                mean_reversion_coeff_revenue=mean_reversion_coeff_revenue,\n",
        "                adjusted_market_value_growth_rate=adjusted_market_value_growth_rate,\n",
        "                time_step=time_step,\n",
        "                rnd_drift=rnd_drift,\n",
        "                vol_growth_rate=vol_growth_rate,\n",
        "                vol_revenue=vol_revenue,\n",
        "                drift=drift\n",
        "            ))\n",
        "            revenue.append((1-default[i-1])*revenue[i-1]*np.exp((drift[i]-adjusted_market_value_revenue*vol_revenue[i]-(vol_revenue[i]**2 /2))*time_step+vol_revenue[i]*np.sqrt(time_step)*rnd_revenue[i]))\n",
        "            cost.append((1-default[i-1])*(ratio_cogs_on_revenue+ratio_flex_otherexpense)*revenue[i]+fixed_component_otherexpense)\n",
        "            ebitda.append(revenue[i]-cost[i])\n",
        "            interest_income.append((np.exp(risk_free_rate/4*time_step)-1)*surplus_cash[i-1])\n",
        "            pl_before_tax.append(ebitda[i]+interest_income[i])\n",
        "            tax.append(-min(0, (accumulated_loss_carriedforward[i-1]-pl_before_tax[i])*tax_rate))\n",
        "            net_income.append(pl_before_tax[i]-tax[i])\n",
        "            accumulated_loss_carriedforward.append(max(accumulated_loss_carriedforward[i-1]-net_income[i], 0))\n",
        "            surplus_cash.append(max(surplus_cash[i-1]+net_income[i], default_line))\n",
        "            if default[i-1]==1:\n",
        "                default.append(1)\n",
        "            elif surplus_cash[i]<=0:\n",
        "                default.append(1)\n",
        "            else:\n",
        "                default.append(0)\n",
        "            if default[i-1]==1:\n",
        "                default_flag.append(0)\n",
        "            elif surplus_cash[i]<=0:\n",
        "                default_flag.append(1)\n",
        "            else:\n",
        "                default_flag.append(0)\n",
        "\n",
        "\n",
        "    return {'vol_of_revenue':vol_revenue,\n",
        "            'drift':drift,\n",
        "            'revenue':revenue,\n",
        "            'cost':cost,\n",
        "            'ebitda':ebitda,\n",
        "            'interest_income':interest_income,\n",
        "            'pl_before_tax':pl_before_tax,\n",
        "            'tax':tax,\n",
        "            'net_income':net_income,\n",
        "            'accumulated_loss_carriedforward':accumulated_loss_carriedforward,\n",
        "            'surplus_cash':surplus_cash,\n",
        "            'default':default,\n",
        "            'default_flag':default_flag}\n",
        "\n",
        "def rov_process(\n",
        "        initial_revenue,\n",
        "        initial_loss_carried_forward,\n",
        "        initial_surplus_cash_balance,\n",
        "        initial_expected_growth_rate_in_revenue,\n",
        "        initial_volatility_revenue,\n",
        "        initial_volatility_growth_rate,\n",
        "        ultimate_long_term_growth_rate,\n",
        "        ultimate_long_term_volatility_growth_rate,\n",
        "        tax_rate,\n",
        "        risk_free_rate,\n",
        "        mean_revension_coeff_revenue,\n",
        "        mean_revension_coeff_vol_revenue,\n",
        "        mean_revension_coeff_vol_growth_rate,\n",
        "        ratio_cogs_on_revenue,\n",
        "        fixed_component_otherexpense,\n",
        "        ratio_flex_otherexpense,\n",
        "        adjusted_market_value_revenue,\n",
        "        adjusted_market_value_growth_rate,\n",
        "        time_horizon,\n",
        "        time_step,\n",
        "        default_line,\n",
        "        sample_pathways,\n",
        "        multiple_evitda,\n",
        "        quantity_stock,\n",
        "        investment_amt,\n",
        "        coefficient\n",
        "):\n",
        "    NUM_PERIOD = time_horizon*4 +1\n",
        "    rnd_dict = gaussian_random(num_period=NUM_PERIOD, coefficient=coefficient)\n",
        "    vol_growth_rate_list = vol_growth_rate(num_period=NUM_PERIOD, initial_volatility_growth_rate=initial_volatility_growth_rate, mean_reversion_coeff_vol_growth_rate=mean_revension_coeff_vol_growth_rate)\n",
        "    vol_revenue_list = vol_revenue(num_period=NUM_PERIOD, initial_volatility_revenue=initial_volatility_revenue, mean_revension_coeff_vol_revenue=mean_revension_coeff_vol_revenue, ultimate_long_term_volatility_growth_rate=ultimate_long_term_volatility_growth_rate)\n",
        "    rov_dict = calc_pl(\n",
        "     num_period=NUM_PERIOD,\n",
        "     initial_revenue=initial_revenue,\n",
        "     initial_expected_growth_rate_in_revenue=initial_expected_growth_rate_in_revenue,\n",
        "     initial_surplus_cash_balance=initial_surplus_cash_balance,\n",
        "     initial_loss_carried_forward=initial_loss_carried_forward,\n",
        "     ultimate_long_term_growth_rate=ultimate_long_term_growth_rate,\n",
        "     mean_reversion_coeff_revenue=mean_revension_coeff_revenue,\n",
        "     adjusted_market_value_revenue=adjusted_market_value_revenue,\n",
        "     adjusted_market_value_growth_rate=adjusted_market_value_growth_rate,\n",
        "     risk_free_rate=risk_free_rate,\n",
        "     tax_rate=tax_rate,\n",
        "     ratio_cogs_on_revenue=ratio_cogs_on_revenue,\n",
        "     fixed_component_otherexpense=fixed_component_otherexpense,\n",
        "     ratio_flex_otherexpense=ratio_flex_otherexpense,\n",
        "     time_step=time_step,\n",
        "     rnd_drift=rnd_dict['rnd_drift'],\n",
        "     rnd_revenue=rnd_dict['rnd_revenue'],\n",
        "     default_line=default_line,\n",
        "     vol_revenue=vol_revenue_list,\n",
        "     vol_growth_rate=vol_growth_rate_list\n",
        "    )\n",
        "    for i, flag in enumerate(rov_dict['default']):\n",
        "        if flag==1:\n",
        "            output_dict={\n",
        "                'default_year':i/4,\n",
        "                'surplus_cash_t':0,\n",
        "                'terminal_value':0,\n",
        "                'equity_value':0,\n",
        "                'stock_price':0,\n",
        "                'urgl_per_stock':0,\n",
        "                'renenue_ratio_after_5y':0\n",
        "            }\n",
        "            break\n",
        "        else:\n",
        "            default_year = 0\n",
        "            surplus_cash_t = rov_dict['surplus_cash'][-1]\n",
        "            terminal_value = rov_dict['ebitda'][-1]*multiple_evitda\n",
        "            equity_value = (surplus_cash_t+terminal_value)*np.exp(-risk_free_rate*time_horizon)\n",
        "            stock_price = equity_value/quantity_stock\n",
        "            urgl_per_stock = stock_price-investment_amt\n",
        "            renenue_ratio_after_5y = rov_dict['revenue'][4*5]/rov_dict['revenue'][0]-1\n",
        "            output_dict={\n",
        "                'default_year':default_year,\n",
        "                'surplus_cash_t':surplus_cash_t,\n",
        "                'terminal_value':terminal_value,\n",
        "                'equity_value':equity_value,\n",
        "                'stock_price':stock_price,\n",
        "                'urgl_per_stock':urgl_per_stock,\n",
        "                'renenue_ratio_after_5y':renenue_ratio_after_5y\n",
        "            }            \n",
        "    rov_dict['rnd_revenue'] = rnd_dict['rnd_revenue']\n",
        "    rov_dict['rnd_drift'] = rnd_dict['rnd_drift']\n",
        "    rov_dict['vol_of_growth_rate'] = vol_growth_rate_list\n",
        "    #rov_df = pd.DataFrame(rov_dict)\n",
        "    return rov_dict, output_dict\n",
        "\n",
        "def simulate_rov(args_dict, n_jobs):\n",
        "    def one_pathway(args_dict):\n",
        "        sim_df, sim_out = rov_process(**args_dict)\n",
        "        return sim_out['equity_value'], sim_out['stock_price'], sim_out['urgl_per_stock'], sim_df['default_flag'], sim_df['revenue'], sim_df['drift']\n",
        "\n",
        "    result = Parallel(n_jobs=n_jobs, verbose=1)(delayed(one_pathway)(args_dict) for _ in range(args_dict['sample_pathways']))\n",
        "    equity_value, stock_price, urgl_per_stock, default_flag, revenue, drift = zip(*result)\n",
        "\n",
        "    return equity_value, stock_price, urgl_per_stock, default_flag, revenue, drift\n"
      ]
    },
    {
      "cell_type": "code",
      "source": [
        "args = {\n",
        "    'initial_revenue':356,\n",
        "    'initial_loss_carried_forward':559,\n",
        "    'initial_surplus_cash_balance':906,\n",
        "    'initial_expected_growth_rate_in_revenue':0.11,\n",
        "    'initial_volatility_revenue':0.1,\n",
        "    'initial_volatility_growth_rate':0.03,\n",
        "    'ultimate_long_term_growth_rate':0.015,\n",
        "    'ultimate_long_term_volatility_growth_rate':0.05,\n",
        "    'tax_rate':0.35,\n",
        "    'risk_free_rate':0.05,\n",
        "    'mean_revension_coeff_revenue':0.07,\n",
        "    'mean_revension_coeff_vol_revenue':0.07,\n",
        "    'mean_revension_coeff_vol_growth_rate':0.07,\n",
        "    'ratio_cogs_on_revenue':0.75,\n",
        "    'fixed_component_otherexpense':75,\n",
        "    'ratio_flex_otherexpense':0.19,\n",
        "    'adjusted_market_value_revenue':0.01,\n",
        "    'adjusted_market_value_growth_rate':0,\n",
        "    'time_horizon':25,\n",
        "    'time_step':1,\n",
        "    'default_line':0,\n",
        "    'sample_pathways':10000,\n",
        "    'multiple_evitda':10,\n",
        "    'quantity_stock':70,\n",
        "    'investment_amt':10,\n",
        "    'coefficient':0\n",
        "}"
      ],
      "metadata": {
        "id": "Qid3qVK3XoCT"
      },
      "execution_count": null,
      "outputs": []
    },
    {
      "cell_type": "code",
      "source": [
        "equity_value, stock_price, urgl_per_stock, default_flag, revenue, drift = simulate_rov(args, n_jobs=30)"
      ],
      "metadata": {
        "colab": {
          "base_uri": "https://localhost:8080/"
        },
        "id": "D8R_IkpnZVyv",
        "outputId": "598c8089-b3c5-463e-ebaf-bce522a6ea1b"
      },
      "execution_count": null,
      "outputs": [
        {
          "output_type": "stream",
          "name": "stderr",
          "text": [
            "[Parallel(n_jobs=30)]: Using backend LokyBackend with 30 concurrent workers.\n",
            "[Parallel(n_jobs=30)]: Done 140 tasks      | elapsed:   25.9s\n",
            "[Parallel(n_jobs=30)]: Done 390 tasks      | elapsed:   37.6s\n",
            "[Parallel(n_jobs=30)]: Done 740 tasks      | elapsed:   52.6s\n",
            "[Parallel(n_jobs=30)]: Done 1190 tasks      | elapsed:  1.2min\n",
            "[Parallel(n_jobs=30)]: Done 1740 tasks      | elapsed:  1.6min\n",
            "[Parallel(n_jobs=30)]: Done 2390 tasks      | elapsed:  2.0min\n",
            "[Parallel(n_jobs=30)]: Done 3140 tasks      | elapsed:  2.6min\n",
            "[Parallel(n_jobs=30)]: Done 3990 tasks      | elapsed:  3.2min\n",
            "[Parallel(n_jobs=30)]: Done 4940 tasks      | elapsed:  3.8min\n",
            "[Parallel(n_jobs=30)]: Done 5990 tasks      | elapsed:  4.5min\n",
            "[Parallel(n_jobs=30)]: Done 7140 tasks      | elapsed:  5.3min\n",
            "[Parallel(n_jobs=30)]: Done 8390 tasks      | elapsed:  6.2min\n",
            "[Parallel(n_jobs=30)]: Done 9740 tasks      | elapsed:  7.2min\n",
            "[Parallel(n_jobs=30)]: Done 10000 out of 10000 | elapsed:  7.3min finished\n"
          ]
        }
      ]
    },
    {
      "cell_type": "code",
      "source": [
        "import os\n",
        "os.cpu_count()"
      ],
      "metadata": {
        "colab": {
          "base_uri": "https://localhost:8080/"
        },
        "id": "uv1eEF0UnSiF",
        "outputId": "c83d0269-9c1a-4fcf-a955-ebea2edca579"
      },
      "execution_count": null,
      "outputs": [
        {
          "output_type": "execute_result",
          "data": {
            "text/plain": [
              "2"
            ]
          },
          "metadata": {},
          "execution_count": 50
        }
      ]
    },
    {
      "cell_type": "code",
      "source": [
        "revenue"
      ],
      "metadata": {
        "id": "HrW-ZibgZfXD"
      },
      "execution_count": null,
      "outputs": []
    },
    {
      "cell_type": "code",
      "source": [
        "import multiprocessing\n",
        "num_cores = multiprocessing.cpu_count()"
      ],
      "metadata": {
        "id": "7GC7NBfmfIl-"
      },
      "execution_count": null,
      "outputs": []
    },
    {
      "cell_type": "code",
      "source": [
        "num_cores"
      ],
      "metadata": {
        "colab": {
          "base_uri": "https://localhost:8080/"
        },
        "id": "hm4x7mYMhgd2",
        "outputId": "40e50e18-33c8-4351-bb61-8eda5c43e319"
      },
      "execution_count": null,
      "outputs": [
        {
          "output_type": "execute_result",
          "data": {
            "text/plain": [
              "2"
            ]
          },
          "metadata": {},
          "execution_count": 38
        }
      ]
    },
    {
      "cell_type": "code",
      "source": [
        "import pandas as pd\n",
        "import re\n",
        "\n",
        "def replace_address_format(address):\n",
        "    # {数字}の{数字}の{数字}の...の形式を{数字}-{数字}-{数字}-...に変換\n",
        "    address = re.sub(r'(\\d+)(の(\\d+))+', lambda m: m.group(0).replace('の', '-'), address)\n",
        "    \n",
        "    # {数字}番地の{数字}または{数字}番地{数字}を{数字}-{数字}に変換\n",
        "    address = re.sub(r'(\\d+)番地の?(\\d+)', r'\\1-\\2', address)\n",
        "    \n",
        "    # {数字}番地を{数字}に変換\n",
        "    address = re.sub(r'(\\d+)番地', r'\\1', address)\n",
        "\n",
        "    return address\n",
        "\n",
        "# テスト\n",
        "df = pd.DataFrame({'address': [\"123の456\", \"789番地の0\", \"123の456の789\", \"123の456 789番地0\", \"1の2の3の4の5\", \"6番地7\", \"8番地の9\", \"10番地\"]})\n",
        "\n",
        "# apply()を使って各行に関数を適用します。\n",
        "df['address'] = df['address'].apply(replace_address_format)\n",
        "\n",
        "print(df)\n"
      ],
      "metadata": {
        "id": "wa_q6GBMhqMa",
        "colab": {
          "base_uri": "https://localhost:8080/"
        },
        "outputId": "16ee4380-0297-4719-8999-4672cd692256"
      },
      "execution_count": 1,
      "outputs": [
        {
          "output_type": "stream",
          "name": "stdout",
          "text": [
            "         address\n",
            "0        123-456\n",
            "1          789-0\n",
            "2    123-456-789\n",
            "3  123-456 789-0\n",
            "4      1-2-3-4-5\n",
            "5            6-7\n",
            "6            8-9\n",
            "7             10\n"
          ]
        }
      ]
    },
    {
      "cell_type": "code",
      "source": [
        "def wide_roman_to_int(s: str) -> int:\n",
        "    roman_dict = {\n",
        "        'Ⅰ': 1, 'Ⅱ': 2, 'Ⅲ': 3, 'Ⅳ': 4, 'Ⅴ': 5, \n",
        "        'Ⅵ': 6, 'Ⅶ': 7, 'Ⅷ': 8, 'Ⅸ': 9, 'Ⅹ': 10, \n",
        "        'Ⅺ': 11, 'Ⅻ': 12, 'ⅰ': 1, 'ⅱ': 2, 'ⅲ': 3, 'ⅳ': 4,\n",
        "        'ⅴ': 5, 'ⅵ': 6, 'ⅶ': 7, 'ⅷ': 8, 'ⅸ': 9, \n",
        "        'ⅹ': 10, 'ⅺ': 11, 'ⅻ': 12,\n",
        "    }\n",
        "    return sum(roman_dict[i] for i in s)\n",
        "\n",
        "\n",
        "def convert_roman_in_address(address: str) -> str:\n",
        "    # 全角ローマ数字の正規表現パターン\n",
        "    pattern = r'[ⅠⅡⅢⅣⅤⅥⅦⅧⅨⅩⅪⅫ]+'\n",
        "    \n",
        "    # 正規表現で全角ローマ数字を見つけて、それぞれを整数に変換\n",
        "    return re.sub(pattern, lambda m: str(wide_roman_to_int(m.group(0))), address)\n",
        "\n",
        "df = pd.DataFrame({'address': [\"123の456Ⅰ\", \"Ⅸ789番地の0Ⅸ\", \"123の456の789Ⅻ\", \"123の456 789番地0a\", \"1の2の3の4の5d\", \"6番地7e\", \"8番地の9f\", \"10番地ⅩⅡ\"]})\n",
        "\n",
        "df['address'] = df['address'].apply(convert_roman_in_address)\n",
        "\n",
        "print(df)\n"
      ],
      "metadata": {
        "colab": {
          "base_uri": "https://localhost:8080/"
        },
        "id": "8Yz58K5VmsDP",
        "outputId": "2e7c2e6e-085a-44ba-d2ba-578275e6bbaa"
      },
      "execution_count": 11,
      "outputs": [
        {
          "output_type": "stream",
          "name": "stdout",
          "text": [
            "           address\n",
            "0         123の4561\n",
            "1        9789番地の09\n",
            "2    123の456の78912\n",
            "3  123の456 789番地0a\n",
            "4       1の2の3の4の5d\n",
            "5            6番地7e\n",
            "6           8番地の9f\n",
            "7           10番地12\n"
          ]
        }
      ]
    },
    {
      "cell_type": "code",
      "source": [
        "df['address'] = df['address'].str.upper()\n",
        "df['address'] = df['address'].str.replace('ヶ', 'ケ')\n",
        "df['address'] = df['address'].str.replace('・|･|·|•', '')"
      ],
      "metadata": {
        "id": "0js9kuzJ9P-A"
      },
      "execution_count": 5,
      "outputs": []
    },
    {
      "cell_type": "code",
      "source": [
        "def kanji_to_int(s: str) -> int:\n",
        "    kanji_dict = {\n",
        "        '一': 1, '二': 2, '三': 3, '四': 4, '五': 5,\n",
        "        '六': 6, '七': 7, '八': 8, '九': 9, '十': 10,\n",
        "        '百': 100, '千': 1000, '万': 10000\n",
        "    }\n",
        "    multipliers = ['十', '百', '千', '万']\n",
        "    num = 0\n",
        "    temp_num = 0\n",
        "    for c in s:\n",
        "        if c in multipliers:\n",
        "            if temp_num == 0:  # 「十」、「百」、「千」、「万」が一桁の数値に続かない場合は1を乗じる\n",
        "                temp_num = 1\n",
        "            temp_num *= kanji_dict[c]\n",
        "        else:\n",
        "            num += temp_num\n",
        "            temp_num = kanji_dict[c]\n",
        "    num += temp_num\n",
        "    return num\n",
        "\n",
        "# テスト用データフレームの作成\n",
        "df = pd.DataFrame({\n",
        "    'address': ['一番地の一', '十番地の二十', '百番地の三百四十', '千番地の四千五百六十', '二万三千四百五十六番地の七']\n",
        "})\n",
        "\n",
        "df['address'] = df['address'].apply(lambda x: re.sub(r'([一二三四五六七八九十百千万]+)', lambda m: str(kanji_to_int(m.group(1))), x))\n"
      ],
      "metadata": {
        "id": "As8ed2NRDG5l"
      },
      "execution_count": 16,
      "outputs": []
    },
    {
      "cell_type": "code",
      "source": [
        "df"
      ],
      "metadata": {
        "colab": {
          "base_uri": "https://localhost:8080/",
          "height": 206
        },
        "id": "lx9nKJ9yDPs_",
        "outputId": "6c319648-bd0a-4f6f-b0fa-488e7be552f7"
      },
      "execution_count": 17,
      "outputs": [
        {
          "output_type": "execute_result",
          "data": {
            "text/plain": [
              "       address\n",
              "0        1番地の1\n",
              "1      10番地の20\n",
              "2    100番地の340\n",
              "3  1000番地の4560\n",
              "4    23456番地の7"
            ],
            "text/html": [
              "\n",
              "  <div id=\"df-167d3220-7330-4586-a907-bb78f71e4f89\">\n",
              "    <div class=\"colab-df-container\">\n",
              "      <div>\n",
              "<style scoped>\n",
              "    .dataframe tbody tr th:only-of-type {\n",
              "        vertical-align: middle;\n",
              "    }\n",
              "\n",
              "    .dataframe tbody tr th {\n",
              "        vertical-align: top;\n",
              "    }\n",
              "\n",
              "    .dataframe thead th {\n",
              "        text-align: right;\n",
              "    }\n",
              "</style>\n",
              "<table border=\"1\" class=\"dataframe\">\n",
              "  <thead>\n",
              "    <tr style=\"text-align: right;\">\n",
              "      <th></th>\n",
              "      <th>address</th>\n",
              "    </tr>\n",
              "  </thead>\n",
              "  <tbody>\n",
              "    <tr>\n",
              "      <th>0</th>\n",
              "      <td>1番地の1</td>\n",
              "    </tr>\n",
              "    <tr>\n",
              "      <th>1</th>\n",
              "      <td>10番地の20</td>\n",
              "    </tr>\n",
              "    <tr>\n",
              "      <th>2</th>\n",
              "      <td>100番地の340</td>\n",
              "    </tr>\n",
              "    <tr>\n",
              "      <th>3</th>\n",
              "      <td>1000番地の4560</td>\n",
              "    </tr>\n",
              "    <tr>\n",
              "      <th>4</th>\n",
              "      <td>23456番地の7</td>\n",
              "    </tr>\n",
              "  </tbody>\n",
              "</table>\n",
              "</div>\n",
              "      <button class=\"colab-df-convert\" onclick=\"convertToInteractive('df-167d3220-7330-4586-a907-bb78f71e4f89')\"\n",
              "              title=\"Convert this dataframe to an interactive table.\"\n",
              "              style=\"display:none;\">\n",
              "        \n",
              "  <svg xmlns=\"http://www.w3.org/2000/svg\" height=\"24px\"viewBox=\"0 0 24 24\"\n",
              "       width=\"24px\">\n",
              "    <path d=\"M0 0h24v24H0V0z\" fill=\"none\"/>\n",
              "    <path d=\"M18.56 5.44l.94 2.06.94-2.06 2.06-.94-2.06-.94-.94-2.06-.94 2.06-2.06.94zm-11 1L8.5 8.5l.94-2.06 2.06-.94-2.06-.94L8.5 2.5l-.94 2.06-2.06.94zm10 10l.94 2.06.94-2.06 2.06-.94-2.06-.94-.94-2.06-.94 2.06-2.06.94z\"/><path d=\"M17.41 7.96l-1.37-1.37c-.4-.4-.92-.59-1.43-.59-.52 0-1.04.2-1.43.59L10.3 9.45l-7.72 7.72c-.78.78-.78 2.05 0 2.83L4 21.41c.39.39.9.59 1.41.59.51 0 1.02-.2 1.41-.59l7.78-7.78 2.81-2.81c.8-.78.8-2.07 0-2.86zM5.41 20L4 18.59l7.72-7.72 1.47 1.35L5.41 20z\"/>\n",
              "  </svg>\n",
              "      </button>\n",
              "      \n",
              "  <style>\n",
              "    .colab-df-container {\n",
              "      display:flex;\n",
              "      flex-wrap:wrap;\n",
              "      gap: 12px;\n",
              "    }\n",
              "\n",
              "    .colab-df-convert {\n",
              "      background-color: #E8F0FE;\n",
              "      border: none;\n",
              "      border-radius: 50%;\n",
              "      cursor: pointer;\n",
              "      display: none;\n",
              "      fill: #1967D2;\n",
              "      height: 32px;\n",
              "      padding: 0 0 0 0;\n",
              "      width: 32px;\n",
              "    }\n",
              "\n",
              "    .colab-df-convert:hover {\n",
              "      background-color: #E2EBFA;\n",
              "      box-shadow: 0px 1px 2px rgba(60, 64, 67, 0.3), 0px 1px 3px 1px rgba(60, 64, 67, 0.15);\n",
              "      fill: #174EA6;\n",
              "    }\n",
              "\n",
              "    [theme=dark] .colab-df-convert {\n",
              "      background-color: #3B4455;\n",
              "      fill: #D2E3FC;\n",
              "    }\n",
              "\n",
              "    [theme=dark] .colab-df-convert:hover {\n",
              "      background-color: #434B5C;\n",
              "      box-shadow: 0px 1px 3px 1px rgba(0, 0, 0, 0.15);\n",
              "      filter: drop-shadow(0px 1px 2px rgba(0, 0, 0, 0.3));\n",
              "      fill: #FFFFFF;\n",
              "    }\n",
              "  </style>\n",
              "\n",
              "      <script>\n",
              "        const buttonEl =\n",
              "          document.querySelector('#df-167d3220-7330-4586-a907-bb78f71e4f89 button.colab-df-convert');\n",
              "        buttonEl.style.display =\n",
              "          google.colab.kernel.accessAllowed ? 'block' : 'none';\n",
              "\n",
              "        async function convertToInteractive(key) {\n",
              "          const element = document.querySelector('#df-167d3220-7330-4586-a907-bb78f71e4f89');\n",
              "          const dataTable =\n",
              "            await google.colab.kernel.invokeFunction('convertToInteractive',\n",
              "                                                     [key], {});\n",
              "          if (!dataTable) return;\n",
              "\n",
              "          const docLinkHtml = 'Like what you see? Visit the ' +\n",
              "            '<a target=\"_blank\" href=https://colab.research.google.com/notebooks/data_table.ipynb>data table notebook</a>'\n",
              "            + ' to learn more about interactive tables.';\n",
              "          element.innerHTML = '';\n",
              "          dataTable['output_type'] = 'display_data';\n",
              "          await google.colab.output.renderOutput(dataTable, element);\n",
              "          const docLink = document.createElement('div');\n",
              "          docLink.innerHTML = docLinkHtml;\n",
              "          element.appendChild(docLink);\n",
              "        }\n",
              "      </script>\n",
              "    </div>\n",
              "  </div>\n",
              "  "
            ]
          },
          "metadata": {},
          "execution_count": 17
        }
      ]
    },
    {
      "cell_type": "code",
      "source": [
        "def convert_english_numbers_to_digits(s: str) -> str:\n",
        "    # 英語の数詞からアラビア数字へのマッピング\n",
        "    number_mapping = {\n",
        "        \"ONE\": 1, \"TWO\": 2, \"THREE\": 3, \"FOUR\": 4, \"FIVE\": 5,\n",
        "        \"SIX\": 6, \"SEVEN\": 7, \"EIGHT\": 8, \"NINE\": 9, \"TEN\": 10\n",
        "    }\n",
        "\n",
        "    # マッピングを適用\n",
        "    for word, number in number_mapping.items():\n",
        "        s = s.replace(word, str(number))\n",
        "\n",
        "    return s\n",
        "\n",
        "df = pd.DataFrame({'address': [\"銀座ONE\"]})\n",
        "df['address'] = df['address'].apply(convert_english_numbers_to_digits)\n",
        "df"
      ],
      "metadata": {
        "colab": {
          "base_uri": "https://localhost:8080/",
          "height": 81
        },
        "id": "WEHT1QPAEb5j",
        "outputId": "13ca0dc5-2f81-4051-dbc6-24e7cdc36e1d"
      },
      "execution_count": 20,
      "outputs": [
        {
          "output_type": "execute_result",
          "data": {
            "text/plain": [
              "  address\n",
              "0     銀座1"
            ],
            "text/html": [
              "\n",
              "  <div id=\"df-9da755d1-cfe9-41ab-ab81-0068b75468e8\">\n",
              "    <div class=\"colab-df-container\">\n",
              "      <div>\n",
              "<style scoped>\n",
              "    .dataframe tbody tr th:only-of-type {\n",
              "        vertical-align: middle;\n",
              "    }\n",
              "\n",
              "    .dataframe tbody tr th {\n",
              "        vertical-align: top;\n",
              "    }\n",
              "\n",
              "    .dataframe thead th {\n",
              "        text-align: right;\n",
              "    }\n",
              "</style>\n",
              "<table border=\"1\" class=\"dataframe\">\n",
              "  <thead>\n",
              "    <tr style=\"text-align: right;\">\n",
              "      <th></th>\n",
              "      <th>address</th>\n",
              "    </tr>\n",
              "  </thead>\n",
              "  <tbody>\n",
              "    <tr>\n",
              "      <th>0</th>\n",
              "      <td>銀座1</td>\n",
              "    </tr>\n",
              "  </tbody>\n",
              "</table>\n",
              "</div>\n",
              "      <button class=\"colab-df-convert\" onclick=\"convertToInteractive('df-9da755d1-cfe9-41ab-ab81-0068b75468e8')\"\n",
              "              title=\"Convert this dataframe to an interactive table.\"\n",
              "              style=\"display:none;\">\n",
              "        \n",
              "  <svg xmlns=\"http://www.w3.org/2000/svg\" height=\"24px\"viewBox=\"0 0 24 24\"\n",
              "       width=\"24px\">\n",
              "    <path d=\"M0 0h24v24H0V0z\" fill=\"none\"/>\n",
              "    <path d=\"M18.56 5.44l.94 2.06.94-2.06 2.06-.94-2.06-.94-.94-2.06-.94 2.06-2.06.94zm-11 1L8.5 8.5l.94-2.06 2.06-.94-2.06-.94L8.5 2.5l-.94 2.06-2.06.94zm10 10l.94 2.06.94-2.06 2.06-.94-2.06-.94-.94-2.06-.94 2.06-2.06.94z\"/><path d=\"M17.41 7.96l-1.37-1.37c-.4-.4-.92-.59-1.43-.59-.52 0-1.04.2-1.43.59L10.3 9.45l-7.72 7.72c-.78.78-.78 2.05 0 2.83L4 21.41c.39.39.9.59 1.41.59.51 0 1.02-.2 1.41-.59l7.78-7.78 2.81-2.81c.8-.78.8-2.07 0-2.86zM5.41 20L4 18.59l7.72-7.72 1.47 1.35L5.41 20z\"/>\n",
              "  </svg>\n",
              "      </button>\n",
              "      \n",
              "  <style>\n",
              "    .colab-df-container {\n",
              "      display:flex;\n",
              "      flex-wrap:wrap;\n",
              "      gap: 12px;\n",
              "    }\n",
              "\n",
              "    .colab-df-convert {\n",
              "      background-color: #E8F0FE;\n",
              "      border: none;\n",
              "      border-radius: 50%;\n",
              "      cursor: pointer;\n",
              "      display: none;\n",
              "      fill: #1967D2;\n",
              "      height: 32px;\n",
              "      padding: 0 0 0 0;\n",
              "      width: 32px;\n",
              "    }\n",
              "\n",
              "    .colab-df-convert:hover {\n",
              "      background-color: #E2EBFA;\n",
              "      box-shadow: 0px 1px 2px rgba(60, 64, 67, 0.3), 0px 1px 3px 1px rgba(60, 64, 67, 0.15);\n",
              "      fill: #174EA6;\n",
              "    }\n",
              "\n",
              "    [theme=dark] .colab-df-convert {\n",
              "      background-color: #3B4455;\n",
              "      fill: #D2E3FC;\n",
              "    }\n",
              "\n",
              "    [theme=dark] .colab-df-convert:hover {\n",
              "      background-color: #434B5C;\n",
              "      box-shadow: 0px 1px 3px 1px rgba(0, 0, 0, 0.15);\n",
              "      filter: drop-shadow(0px 1px 2px rgba(0, 0, 0, 0.3));\n",
              "      fill: #FFFFFF;\n",
              "    }\n",
              "  </style>\n",
              "\n",
              "      <script>\n",
              "        const buttonEl =\n",
              "          document.querySelector('#df-9da755d1-cfe9-41ab-ab81-0068b75468e8 button.colab-df-convert');\n",
              "        buttonEl.style.display =\n",
              "          google.colab.kernel.accessAllowed ? 'block' : 'none';\n",
              "\n",
              "        async function convertToInteractive(key) {\n",
              "          const element = document.querySelector('#df-9da755d1-cfe9-41ab-ab81-0068b75468e8');\n",
              "          const dataTable =\n",
              "            await google.colab.kernel.invokeFunction('convertToInteractive',\n",
              "                                                     [key], {});\n",
              "          if (!dataTable) return;\n",
              "\n",
              "          const docLinkHtml = 'Like what you see? Visit the ' +\n",
              "            '<a target=\"_blank\" href=https://colab.research.google.com/notebooks/data_table.ipynb>data table notebook</a>'\n",
              "            + ' to learn more about interactive tables.';\n",
              "          element.innerHTML = '';\n",
              "          dataTable['output_type'] = 'display_data';\n",
              "          await google.colab.output.renderOutput(dataTable, element);\n",
              "          const docLink = document.createElement('div');\n",
              "          docLink.innerHTML = docLinkHtml;\n",
              "          element.appendChild(docLink);\n",
              "        }\n",
              "      </script>\n",
              "    </div>\n",
              "  </div>\n",
              "  "
            ]
          },
          "metadata": {},
          "execution_count": 20
        }
      ]
    },
    {
      "cell_type": "code",
      "source": [
        "df['address'] = df['address'].str.replace('㈱|（株）|\\(株\\)|株式会社', '', regex=True)"
      ],
      "metadata": {
        "id": "MZmjtFuGKRSC"
      },
      "execution_count": null,
      "outputs": []
    },
    {
      "cell_type": "code",
      "source": [
        "!pip install pykakasi"
      ],
      "metadata": {
        "colab": {
          "base_uri": "https://localhost:8080/"
        },
        "id": "cw9dKo52MTCX",
        "outputId": "4d206e31-b5ce-4b90-e9fb-fb07fcc04b76"
      },
      "execution_count": 21,
      "outputs": [
        {
          "output_type": "stream",
          "name": "stdout",
          "text": [
            "Collecting pykakasi\n",
            "  Downloading pykakasi-2.2.1-py3-none-any.whl (2.4 MB)\n",
            "\u001b[2K     \u001b[90m━━━━━━━━━━━━━━━━━━━━━━━━━━━━━━━━━━━━━━━━\u001b[0m \u001b[32m2.4/2.4 MB\u001b[0m \u001b[31m24.8 MB/s\u001b[0m eta \u001b[36m0:00:00\u001b[0m\n",
            "\u001b[?25hCollecting jaconv (from pykakasi)\n",
            "  Downloading jaconv-0.3.4.tar.gz (16 kB)\n",
            "  Preparing metadata (setup.py) ... \u001b[?25l\u001b[?25hdone\n",
            "Collecting deprecated (from pykakasi)\n",
            "  Downloading Deprecated-1.2.14-py2.py3-none-any.whl (9.6 kB)\n",
            "Requirement already satisfied: wrapt<2,>=1.10 in /usr/local/lib/python3.10/dist-packages (from deprecated->pykakasi) (1.14.1)\n",
            "Building wheels for collected packages: jaconv\n",
            "  Building wheel for jaconv (setup.py) ... \u001b[?25l\u001b[?25hdone\n",
            "  Created wheel for jaconv: filename=jaconv-0.3.4-py3-none-any.whl size=16416 sha256=3f597cc1de0b9e8ad893c5eb36f5955a077223a61b4d4927fbc63b03b0912580\n",
            "  Stored in directory: /root/.cache/pip/wheels/46/8f/2e/a730bf1fca05b33e532d5d91dabdf406c9b718ec85b01b1b54\n",
            "Successfully built jaconv\n",
            "Installing collected packages: jaconv, deprecated, pykakasi\n",
            "Successfully installed deprecated-1.2.14 jaconv-0.3.4 pykakasi-2.2.1\n"
          ]
        }
      ]
    },
    {
      "cell_type": "code",
      "source": [
        "import pykakasi"
      ],
      "metadata": {
        "id": "erIfmlbPMVba"
      },
      "execution_count": 22,
      "outputs": []
    },
    {
      "cell_type": "code",
      "source": [
        "kks = pykakasi.kakasi()\n",
        "results = kks.convert(\"東京都品川区広町やまだマンションA棟\")\n",
        "kana_add = \"\"\n",
        "for result in results:\n",
        "  kana_add += result['kana']\n",
        "kana_add"
      ],
      "metadata": {
        "colab": {
          "base_uri": "https://localhost:8080/",
          "height": 35
        },
        "id": "akrz7WNhMXBv",
        "outputId": "254b842e-73b1-42f1-9671-1d51b8987999"
      },
      "execution_count": 28,
      "outputs": [
        {
          "output_type": "execute_result",
          "data": {
            "text/plain": [
              "'トウキョウトシナガワクヒロマチヤマダマンションAトウ'"
            ],
            "application/vnd.google.colaboratory.intrinsic+json": {
              "type": "string"
            }
          },
          "metadata": {},
          "execution_count": 28
        }
      ]
    },
    {
      "cell_type": "code",
      "source": [
        "result"
      ],
      "metadata": {
        "colab": {
          "base_uri": "https://localhost:8080/"
        },
        "id": "MTU98hq7Mi7q",
        "outputId": "97d34942-8501-4ba7-d0ca-2b828d19189c"
      },
      "execution_count": 27,
      "outputs": [
        {
          "output_type": "execute_result",
          "data": {
            "text/plain": [
              "[{'orig': '東京都',\n",
              "  'hira': 'とうきょうと',\n",
              "  'kana': 'トウキョウト',\n",
              "  'hepburn': 'toukyouto',\n",
              "  'kunrei': 'toukyouto',\n",
              "  'passport': 'tokyouto'},\n",
              " {'orig': '品川区',\n",
              "  'hira': 'しながわく',\n",
              "  'kana': 'シナガワク',\n",
              "  'hepburn': 'shinagawaku',\n",
              "  'kunrei': 'sinagawaku',\n",
              "  'passport': 'shinagawaku'},\n",
              " {'orig': '広町',\n",
              "  'hira': 'ひろまち',\n",
              "  'kana': 'ヒロマチ',\n",
              "  'hepburn': 'hiromachi',\n",
              "  'kunrei': 'hiromati',\n",
              "  'passport': 'hiromachi'},\n",
              " {'orig': 'やまだ',\n",
              "  'hira': 'やまだ',\n",
              "  'kana': 'ヤマダ',\n",
              "  'hepburn': 'yamada',\n",
              "  'kunrei': 'yamada',\n",
              "  'passport': 'yamada'},\n",
              " {'orig': 'マンション',\n",
              "  'hira': 'まんしょん',\n",
              "  'kana': 'マンション',\n",
              "  'hepburn': 'manshon',\n",
              "  'kunrei': 'mansyon',\n",
              "  'passport': 'manshon'},\n",
              " {'orig': 'A',\n",
              "  'hira': 'A',\n",
              "  'kana': 'A',\n",
              "  'hepburn': 'A',\n",
              "  'kunrei': 'A',\n",
              "  'passport': 'A'},\n",
              " {'orig': '棟',\n",
              "  'hira': 'とう',\n",
              "  'kana': 'トウ',\n",
              "  'hepburn': 'tou',\n",
              "  'kunrei': 'tou',\n",
              "  'passport': 'to'}]"
            ]
          },
          "metadata": {},
          "execution_count": 27
        }
      ]
    },
    {
      "cell_type": "code",
      "source": [],
      "metadata": {
        "id": "jC9H5zVzMlbL"
      },
      "execution_count": null,
      "outputs": []
    }
  ]
}